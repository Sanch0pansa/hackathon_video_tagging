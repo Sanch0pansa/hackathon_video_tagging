{
 "cells": [
  {
   "cell_type": "code",
   "execution_count": 1,
   "metadata": {},
   "outputs": [],
   "source": [
    "from moviepy.editor import VideoFileClip\n",
    "from pydub import AudioSegment\n",
    "import torch\n",
    "from transformers import Wav2Vec2Processor, Wav2Vec2Model\n",
    "import numpy as np"
   ]
  },
  {
   "cell_type": "code",
   "execution_count": 35,
   "metadata": {},
   "outputs": [],
   "source": [
    "class AudioExtractor:\n",
    "    def __init__(self, video_path):\n",
    "        self.video_clip = VideoFileClip(video_path)\n",
    "        self.audio_clip = self.video_clip.audio.set_fps(8000)\n",
    "        if self.video_clip.duration > 60:\n",
    "            self.video_clip = self.video_clip.subclip(0, 60)\n",
    "        # Extract audio from video\n",
    "        audio_path = \"temp_audio.wav\"  # Temporary file to store audio\n",
    "        \n",
    "        self.audio_clip.write_audiofile(audio_path)\n",
    "\n",
    "        # Load the audio using pydub\n",
    "        self.audio_segment = AudioSegment.from_wav(audio_path)\n",
    "\n",
    "        # Initialize Wav2Vec2 processor and model\n",
    "        self.processor = Wav2Vec2Processor.from_pretrained(\"facebook/wav2vec2-base\")\n",
    "        self.model = Wav2Vec2Model.from_pretrained(\"facebook/wav2vec2-base\")\n",
    "\n",
    "    def extract_features(self) -> torch.Tensor:\n",
    "        # Convert audio segment to raw audio data (numpy array)\n",
    "        audio_samples = np.array(self.audio_segment.get_array_of_samples()).astype(np.float32)\n",
    "        \n",
    "        # Handle stereo audio if necessary\n",
    "        if self.audio_segment.channels == 2:\n",
    "            audio_samples = audio_samples.reshape((-1, 2)).mean(axis=1)  # Convert to mono\n",
    "        \n",
    "        # Normalize audio data\n",
    "        audio_samples /= np.max(np.abs(audio_samples))\n",
    "\n",
    "        # Prepare the input for Wav2Vec2\n",
    "        inputs = self.processor(audio_samples, sampling_rate=16000, return_tensors=\"pt\", padding=True)\n",
    "\n",
    "        # Get embeddings\n",
    "        with torch.no_grad():\n",
    "            embeddings = self.model(inputs.input_values).last_hidden_state\n",
    "        \n",
    "        return embeddings"
   ]
  },
  {
   "cell_type": "code",
   "execution_count": 36,
   "metadata": {},
   "outputs": [
    {
     "name": "stdout",
     "output_type": "stream",
     "text": [
      "MoviePy - Writing audio in temp_audio.wav\n"
     ]
    },
    {
     "name": "stderr",
     "output_type": "stream",
     "text": [
      "                                                                    \r"
     ]
    },
    {
     "name": "stdout",
     "output_type": "stream",
     "text": [
      "MoviePy - Done.\n"
     ]
    }
   ],
   "source": [
    "path = r\"C:\\Users\\Darya\\Downloads\\videos\\3b69f98d51c1028633cff24c7d2937e0.mp4\"\n",
    "\n",
    "audio = AudioExtractor(path)\n"
   ]
  },
  {
   "cell_type": "code",
   "execution_count": 37,
   "metadata": {},
   "outputs": [
    {
     "data": {
      "text/plain": [
       "tensor([[[ 0.1208, -0.1846,  0.3789,  ...,  0.4357,  0.1528,  0.0036],\n",
       "         [ 0.1390, -0.2295,  0.3784,  ...,  0.6440, -0.0260,  0.1158],\n",
       "         [ 0.0513, -0.1899,  0.3342,  ...,  0.6386, -0.1095,  0.2583],\n",
       "         ...,\n",
       "         [ 0.0041, -0.1939, -0.1719,  ...,  0.1579,  0.0501,  0.1461],\n",
       "         [-0.0157, -0.2077, -0.1370,  ...,  0.2151, -0.0215,  0.0733],\n",
       "         [-0.0737, -0.2238, -0.1443,  ...,  0.1543,  0.0058,  0.1797]]])"
      ]
     },
     "execution_count": 37,
     "metadata": {},
     "output_type": "execute_result"
    }
   ],
   "source": [
    "audio.extract_features()"
   ]
  }
 ],
 "metadata": {
  "kernelspec": {
   "display_name": "Python 3",
   "language": "python",
   "name": "python3"
  },
  "language_info": {
   "codemirror_mode": {
    "name": "ipython",
    "version": 3
   },
   "file_extension": ".py",
   "mimetype": "text/x-python",
   "name": "python",
   "nbconvert_exporter": "python",
   "pygments_lexer": "ipython3",
   "version": "3.11.3"
  }
 },
 "nbformat": 4,
 "nbformat_minor": 2
}
