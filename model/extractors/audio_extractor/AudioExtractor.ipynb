{
 "cells": [
  {
   "cell_type": "code",
   "execution_count": 52,
   "metadata": {},
   "outputs": [],
   "source": [
    "from moviepy.editor import VideoFileClip\n",
    "from pydub import AudioSegment\n",
    "import moviepy.audio.fx as afx\n",
    "import torch\n",
    "from transformers import Wav2Vec2Processor, Wav2Vec2Model\n",
    "import numpy as np"
   ]
  },
  {
   "cell_type": "code",
   "execution_count": 69,
   "metadata": {},
   "outputs": [],
   "source": [
    "class AudioExtractor:\n",
    "    def __init__(self, video_path):\n",
    "        self.video_clip = VideoFileClip(video_path)\n",
    "        self.audio_clip = self.video_clip.audio.set_fps(8000)\n",
    "        if self.video_clip.duration > 420:\n",
    "            self.audio_clip = self.audio_clip.subclip(0, 420)\n",
    "        # Extract audio from video\n",
    "        audio_path = \"temp_audio.wav\"  # Temporary file to store audio\n",
    "        \n",
    "        self.audio_clip.write_audiofile(audio_path)\n",
    "\n",
    "        # Load the audio using pydub\n",
    "        self.audio_segment = AudioSegment.from_wav(audio_path)\n",
    "\n",
    "        # Initialize Wav2Vec2 processor and model\n",
    "        self.processor = Wav2Vec2Processor.from_pretrained(\"facebook/wav2vec2-base\")\n",
    "        self.model = Wav2Vec2Model.from_pretrained(\"facebook/wav2vec2-base\")\n",
    "\n",
    "    def extract_features(self) -> torch.Tensor:\n",
    "        # Convert audio segment to raw audio data (numpy array)\n",
    "        audio_samples = np.array(self.audio_segment.get_array_of_samples()).astype(np.float32)\n",
    "        \n",
    "        # Handle stereo audio if necessary\n",
    "        if self.audio_segment.channels == 2:\n",
    "            audio_samples = audio_samples.reshape((-1, 2)).mean(axis=1)  # Convert to mono\n",
    "        \n",
    "        # Normalize audio data\n",
    "        audio_samples /= np.max(np.abs(audio_samples))\n",
    "\n",
    "        # Prepare the input for Wav2Vec2\n",
    "        inputs = self.processor(audio_samples, sampling_rate=16000, return_tensors=\"pt\", padding=True)\n",
    "\n",
    "        # Get embeddings\n",
    "        with torch.no_grad():\n",
    "            embeddings = self.model(inputs.input_values).last_hidden_state\n",
    "        \n",
    "        return embeddings"
   ]
  },
  {
   "cell_type": "code",
   "execution_count": 70,
   "metadata": {},
   "outputs": [
    {
     "name": "stdout",
     "output_type": "stream",
     "text": [
      "MoviePy - Writing audio in temp_audio.wav\n"
     ]
    },
    {
     "name": "stderr",
     "output_type": "stream",
     "text": [
      "                                                                      \r"
     ]
    },
    {
     "name": "stdout",
     "output_type": "stream",
     "text": [
      "MoviePy - Done.\n"
     ]
    }
   ],
   "source": [
    "path = r\"C:\\Users\\Darya\\Downloads\\videos\\3ec7c2b092514dc4ebeaa3036fe9857c.mp4\"\n",
    "\n",
    "audio = AudioExtractor(path)\n"
   ]
  },
  {
   "cell_type": "code",
   "execution_count": 71,
   "metadata": {},
   "outputs": [
    {
     "data": {
      "text/plain": [
       "tensor([[[ 0.1342, -0.1426, -0.0040,  ...,  0.6017,  0.1571,  0.2050],\n",
       "         [ 0.0109, -0.1517,  0.0713,  ...,  0.6283, -0.0106, -0.0409],\n",
       "         [-0.0315, -0.1571,  0.1013,  ...,  0.6137,  0.0038, -0.2005],\n",
       "         ...,\n",
       "         [-0.4672, -0.1100,  0.2366,  ...,  0.1547,  0.0495, -0.0290],\n",
       "         [-0.4605, -0.0996,  0.2325,  ...,  0.1572,  0.0470, -0.0108],\n",
       "         [-0.4609, -0.1134,  0.2219,  ...,  0.1486,  0.0520, -0.0050]]])"
      ]
     },
     "execution_count": 71,
     "metadata": {},
     "output_type": "execute_result"
    }
   ],
   "source": [
    "audio.extract_features()"
   ]
  }
 ],
 "metadata": {
  "kernelspec": {
   "display_name": "Python 3",
   "language": "python",
   "name": "python3"
  },
  "language_info": {
   "codemirror_mode": {
    "name": "ipython",
    "version": 3
   },
   "file_extension": ".py",
   "mimetype": "text/x-python",
   "name": "python",
   "nbconvert_exporter": "python",
   "pygments_lexer": "ipython3",
   "version": "3.11.3"
  }
 },
 "nbformat": 4,
 "nbformat_minor": 2
}
