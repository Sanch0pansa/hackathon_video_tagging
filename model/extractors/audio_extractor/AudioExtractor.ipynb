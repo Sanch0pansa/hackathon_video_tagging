{
 "cells": [
  {
   "cell_type": "code",
   "execution_count": 1,
   "metadata": {},
   "outputs": [],
   "source": [
    "from moviepy.editor import VideoFileClip\n",
    "from pydub import AudioSegment\n",
    "import torch\n",
    "from transformers import Wav2Vec2Processor, Wav2Vec2Model\n",
    "import numpy as np"
   ]
  },
  {
   "cell_type": "code",
   "execution_count": 7,
   "metadata": {},
   "outputs": [],
   "source": [
    "class AudioExtractor:\n",
    "    def __init__(self, video_path):\n",
    "        self.video_clip = VideoFileClip(video_path)\n",
    "        self.audio_clip = self.video_clip.audio.set_fps(8000)\n",
    "        if self.video_clip.duration > 420:\n",
    "            self.audio_clip = self.audio_clip.subclip(0, 420)\n",
    "        # Аудио из видео\n",
    "        audio_path = \"temp_audio.wav\"  # Временный файл\n",
    "        \n",
    "        self.audio_clip.write_audiofile(audio_path)\n",
    "\n",
    "        # Загружаем аудио в новом формате\n",
    "        self.audio_segment = AudioSegment.from_wav(audio_path)\n",
    "\n",
    "        # Инициализируем процессор и модель\n",
    "        self.processor = Wav2Vec2Processor.from_pretrained(\"facebook/wav2vec2-base\")\n",
    "        self.model = Wav2Vec2Model.from_pretrained(\"facebook/wav2vec2-base\")\n",
    "\n",
    "    def extract_features(self) -> torch.Tensor:\n",
    "        # Конвертируем в np.array\n",
    "        audio_samples = np.array(self.audio_segment.get_array_of_samples()).astype(np.float32)\n",
    "        \n",
    "        # Конвертируем в моно\n",
    "        if self.audio_segment.channels == 2:\n",
    "            audio_samples = audio_samples.reshape((-1, 2)).mean(axis=1)\n",
    "        \n",
    "        # Нормализуем\n",
    "        audio_samples /= np.max(np.abs(audio_samples))\n",
    "\n",
    "        # Подготавливаем inputs для модели\n",
    "        inputs = self.processor(audio_samples, sampling_rate=16000, return_tensors=\"pt\", padding=True)\n",
    "\n",
    "        # Получаем эмбеддинги\n",
    "        with torch.no_grad():\n",
    "            embeddings = self.model(inputs.input_values).last_hidden_state\n",
    "        \n",
    "\n",
    "        return embeddings.mean(dim=1)"
   ]
  },
  {
   "cell_type": "code",
   "execution_count": 8,
   "metadata": {},
   "outputs": [
    {
     "name": "stdout",
     "output_type": "stream",
     "text": [
      "MoviePy - Writing audio in temp_audio.wav\n"
     ]
    },
    {
     "name": "stderr",
     "output_type": "stream",
     "text": [
      "                                                                      \r"
     ]
    },
    {
     "name": "stdout",
     "output_type": "stream",
     "text": [
      "MoviePy - Done.\n"
     ]
    }
   ],
   "source": [
    "path = r\"C:\\Users\\Darya\\Downloads\\videos\\3ec7c2b092514dc4ebeaa3036fe9857c.mp4\"\n",
    "\n",
    "audio = AudioExtractor(path) # извлекаем аудио\n"
   ]
  },
  {
   "cell_type": "code",
   "execution_count": 9,
   "metadata": {},
   "outputs": [],
   "source": [
    "res = audio.extract_features() # получаем эмбеддинги"
   ]
  },
  {
   "cell_type": "code",
   "execution_count": 10,
   "metadata": {},
   "outputs": [
    {
     "data": {
      "text/plain": [
       "torch.Size([1, 768])"
      ]
     },
     "execution_count": 10,
     "metadata": {},
     "output_type": "execute_result"
    }
   ],
   "source": [
    "res.shape"
   ]
  }
 ],
 "metadata": {
  "kernelspec": {
   "display_name": "Python 3",
   "language": "python",
   "name": "python3"
  },
  "language_info": {
   "codemirror_mode": {
    "name": "ipython",
    "version": 3
   },
   "file_extension": ".py",
   "mimetype": "text/x-python",
   "name": "python",
   "nbconvert_exporter": "python",
   "pygments_lexer": "ipython3",
   "version": "3.11.3"
  }
 },
 "nbformat": 4,
 "nbformat_minor": 2
}
