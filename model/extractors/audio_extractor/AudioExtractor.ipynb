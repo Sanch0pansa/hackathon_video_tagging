{
 "cells": [
  {
   "cell_type": "code",
   "execution_count": 2,
   "metadata": {},
   "outputs": [],
   "source": [
    "import torch\n",
    "from moviepy.editor import VideoFileClip\n",
    "from librosa import feature"
   ]
  },
  {
   "cell_type": "code",
   "execution_count": null,
   "metadata": {},
   "outputs": [],
   "source": [
    "class AudioExtractor:\n",
    "    def __init__(self, video_path):\n",
    "        self.video_clip = VideoFileClip(video_path)\n",
    "        self.audio_clip = self.video_clip.audio\n",
    "\n",
    "    def extract_features(self, data: any) -> torch.Tensor:\n",
    "        mfccs = feature.mfcc(self.audio_clip) #MFCC — один из наиболее распространённых признаков, который широко используется в задачах распознавания речи и звука.\n",
    "        mel_spectrogram = feature.melspectrogram(y=self.audio_clip, sr=self.audio_clip.fps, n_mels=128) #показывает распределение энергии в частотном диапазоне по времени\n",
    "        \n",
    "        \n",
    "        \n",
    "        \n",
    "        \n",
    "        \n",
    "        \n",
    "        \n",
    "        return torch.tensor([1.0])"
   ]
  }
 ],
 "metadata": {
  "kernelspec": {
   "display_name": "Python 3",
   "language": "python",
   "name": "python3"
  },
  "language_info": {
   "codemirror_mode": {
    "name": "ipython",
    "version": 3
   },
   "file_extension": ".py",
   "mimetype": "text/x-python",
   "name": "python",
   "nbconvert_exporter": "python",
   "pygments_lexer": "ipython3",
   "version": "3.11.3"
  }
 },
 "nbformat": 4,
 "nbformat_minor": 2
}
