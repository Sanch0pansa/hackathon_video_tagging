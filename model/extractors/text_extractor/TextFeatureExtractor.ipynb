{
 "cells": [
  {
   "cell_type": "markdown",
   "metadata": {},
   "source": [
    "# Feature Extraction Embeddings from text\n",
    "1) using Bert pretrained model\n"
   ]
  },
  {
   "cell_type": "code",
   "execution_count": 3,
   "metadata": {},
   "outputs": [],
   "source": [
    "import torch\n",
    "from transformers import BertModel, BertTokenizer\n",
    "\n",
    "# Model BERT text to embeddings\n",
    "class FeatureExtractor:\n",
    "    def __init__(self, model_name='bert-base-uncased'):\n",
    "        self.tokenizer = BertTokenizer.from_pretrained(model_name)\n",
    "        self.model = BertModel.from_pretrained(model_name, output_hidden_states=True)\n",
    "        \n",
    "        device = torch.device('cuda' if torch.cuda.is_available() else 'cpu')\n",
    "        self.model = self.model.to(device)\n",
    "    \n",
    "    def extract_features(self, text: str) -> torch.Tensor:\n",
    "        # Tokenize input text\n",
    "        inputs = self.tokenizer(text, return_tensors=\"pt\", padding=True, truncation=True, max_length=512)\n",
    "        \n",
    "        # Get embeddings\n",
    "        with torch.no_grad():\n",
    "            outputs = self.model(**inputs)\n",
    "\n",
    "        # Extract embeddings from the layer\n",
    "        embeddings = outputs.hidden_states[-2]\n",
    "\n",
    "        # Average embeddings of all tokens\n",
    "        sentence_embedding = torch.mean(embeddings, dim=1)\n",
    "        \n",
    "        return sentence_embedding\n",
    "\n",
    "    def cosine_similarity(self, a: torch.Tensor, b: torch.Tensor) -> torch.Tensor:\n",
    "        return torch.nn.functional.cosine_similarity(a, b, dim=1)\n",
    "\n"
   ]
  },
  {
   "cell_type": "markdown",
   "metadata": {},
   "source": [
    "# Test for feature extraction below"
   ]
  },
  {
   "cell_type": "code",
   "execution_count": 4,
   "metadata": {},
   "outputs": [
    {
     "name": "stdout",
     "output_type": "stream",
     "text": [
      "Embedding dimension: torch.Size([1, 768])\n",
      "Sum of absolute values of the first embedding: 294.7742919921875\n",
      "Mean value of the first embedding: -0.03844819590449333\n",
      "Similarity between text 1 and 2 (both about pasta): 0.9817097187042236\n",
      "Similarity between text 1 and 4 (pasta and car): 0.9646569490432739\n",
      "Similarity between two embeddings of the same text: 1.0\n"
     ]
    }
   ],
   "source": [
    "# Test \n",
    "texts = [\n",
    "    \"Название видео: Рецепты итальянской пасты. Описание: Различные блюда из пасты.\",\n",
    "    \"Название видео: Спагетти карбонара. Описание: Классическая римская паста.\",\n",
    "    \"Название видео: Техники приготовления пасты. Описание: Как сделать свежую пасту.\",\n",
    "    \"Название видео: Советы по уходу за автомобилем. Описание: Основной уход за автомобилем.\",\n",
    "    \"Название видео: Замена спущенного колеса. Описание: Пошаговое руководство.\",\n",
    "    \"Название видео: Основы ремонта автомобилей. Описание: Ремонт автомобилей своими руками.\"\n",
    "]\n",
    "\n",
    "extractor = FeatureExtractor()\n",
    "embeddings = [extractor.extract_features(text) for text in texts]\n",
    "\n",
    "print(f\"Embedding dimension: {embeddings[0].shape}\")\n",
    "\n",
    "# Check non-zero vectors\n",
    "print(f\"Sum of absolute values of the first embedding: {torch.sum(torch.abs(embeddings[0]))}\")\n",
    "print(f\"Mean value of the first embedding: {torch.mean(embeddings[0])}\")\n",
    "\n",
    "print(f\"Similarity between text 1 and 2 (both about pasta): {extractor.cosine_similarity(embeddings[0], embeddings[1]).item()}\")\n",
    "print(f\"Similarity between text 1 and 4 (pasta and car): {extractor.cosine_similarity(embeddings[0], embeddings[3]).item()}\")\n",
    "\n",
    "# Check consistency\n",
    "embedding1 = extractor.extract_features(texts[0])\n",
    "embedding2 = extractor.extract_features(texts[0])\n",
    "print(f\"Similarity between two embeddings of the same text: {extractor.cosine_similarity(embedding1, embedding2).item()}\")"
   ]
  },
  {
   "cell_type": "markdown",
   "metadata": {},
   "source": [
    "# Real usage\n",
    "text - input information\n",
    "\n",
    "embeddings - output information"
   ]
  },
  {
   "cell_type": "code",
   "execution_count": 5,
   "metadata": {},
   "outputs": [
    {
     "name": "stdout",
     "output_type": "stream",
     "text": [
      "Embedding shape: torch.Size([1, 768])\n",
      "Embedding mean: -0.03887264430522919\n",
      "Embedding sum: -29.854190826416016\n",
      "Embedding max: 1.4039347171783447\n",
      "Embedding min: -6.451247215270996\n"
     ]
    }
   ],
   "source": [
    "extractor = FeatureExtractor()\n",
    "\n",
    "text = \"Название видео: Искусство приготовления пиццы. Описание: Секреты идеального теста и соуса.\"\n",
    "\n",
    "embeddings = extractor.extract_features(text)\n",
    "\n",
    "# some statistics of the embeddings\n",
    "print(f\"Embedding shape: {embeddings.shape}\")\n",
    "print(f\"Embedding mean: {torch.mean(embeddings)}\")\n",
    "print(f\"Embedding sum: {torch.sum(embeddings)}\")\n",
    "print(f\"Embedding max: {torch.max(embeddings)}\")\n",
    "print(f\"Embedding min: {torch.min(embeddings)}\")\n",
    "\n",
    "# real full info about embeddings: \n",
    "# attention: \"kinda big output\"\n",
    "\n",
    "# print(f\"Embedding values: {embeddings}\") "
   ]
  }
 ],
 "metadata": {
  "kernelspec": {
   "display_name": ".venv",
   "language": "python",
   "name": "python3"
  },
  "language_info": {
   "codemirror_mode": {
    "name": "ipython",
    "version": 3
   },
   "file_extension": ".py",
   "mimetype": "text/x-python",
   "name": "python",
   "nbconvert_exporter": "python",
   "pygments_lexer": "ipython3",
   "version": "3.11.6"
  }
 },
 "nbformat": 4,
 "nbformat_minor": 2
}
