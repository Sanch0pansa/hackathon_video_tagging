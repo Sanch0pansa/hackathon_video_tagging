{
 "cells": [
  {
   "cell_type": "code",
   "execution_count": 6,
   "metadata": {},
   "outputs": [],
   "source": [
    "import torch\n",
    "from transformers import BertModel, BertTokenizer\n",
    "\n",
    "# Model BERT text to embeddings\n",
    "class TextFeatureExtractor:\n",
    "    def __init__(self, model_name='bert-base-uncased'):\n",
    "        self.tokenizer = BertTokenizer.from_pretrained(model_name, cache_dir=\"./cache\")\n",
    "        self.model = BertModel.from_pretrained(model_name, output_hidden_states=True, cache_dir=\"./cache\")\n",
    "        \n",
    "        device = torch.device('cuda' if torch.cuda.is_available() else 'cpu')\n",
    "        self.model = self.model.to(device)\n",
    "    \n",
    "    def extract_features(self, text: str) -> torch.Tensor:\n",
    "        # Tokenize input text\n",
    "        inputs = self.tokenizer(text, return_tensors=\"pt\", padding=True, truncation=True, max_length=512)\n",
    "        \n",
    "        # Get embeddings\n",
    "        with torch.no_grad():\n",
    "            outputs = self.model(**inputs)\n",
    "\n",
    "        # Extract embeddings from the layer\n",
    "        embeddings = outputs.hidden_states[-2]\n",
    "\n",
    "        # Average embeddings of all tokens\n",
    "        sentence_embedding = torch.mean(embeddings, dim=1)\n",
    "        \n",
    "        return sentence_embedding\n",
    "\n",
    "    def cosine_similarity(self, a: torch.Tensor, b: torch.Tensor) -> torch.Tensor:\n",
    "        return torch.nn.functional.cosine_similarity(a, b, dim=1)\n",
    "\n"
   ]
  },
  {
   "cell_type": "markdown",
   "metadata": {},
   "source": []
  },
  {
   "cell_type": "code",
   "execution_count": 5,
   "metadata": {},
   "outputs": [
    {
     "name": "stderr",
     "output_type": "stream",
     "text": [
      "Processing videos: 100%|██████████| 1049/1049 [07:41<00:00,  2.27it/s]\n",
      "Comparing embeddings: 100%|██████████| 1049/1049 [00:31<00:00, 33.50it/s]"
     ]
    },
    {
     "name": "stdout",
     "output_type": "stream",
     "text": [
      "\n",
      "Most similar pair:\n",
      "Video IDs: ('0ea016128113476c741eba66ecbb5f0a', 'fe8ac2d7f57582ac5665692813d76efa')\n",
      "Similarity: 1.000000238418579\n",
      "Texts:\n",
      "1: Роман Юнусов и артист Black STAR SLAME чуть не утонули - В новом выпуске шоу «Спортивный Интерес» Рома Юнусов и популярный исполнитель SLAME под присмотром многократной призёрки чемпионатов мира будут учиться технике правильного вхождения в воду, чтобы плавать, как профи. Сухим в этот раз точно никто не уйдет, смотрите сами!\n",
      "2: Роман Юнусов и артист Black STAR SLAME чуть не утонули - В новом выпуске шоу «Спортивный Интерес» Рома Юнусов и популярный исполнитель SLAME под присмотром многократной призёрки чемпионатов мира будут учиться технике правильного вхождения в воду, чтобы плавать, как профи. Сухим в этот раз точно никто не уйдет, смотрите сами!\n",
      "\n",
      "Least similar pair:\n",
      "Video IDs: ('809cf37aa35541e9c82d710ae3881b4d', '24dbccf1b42bb1498de96586c17d4957')\n",
      "Similarity: 0.393150269985199\n",
      "Texts:\n",
      "1: Малайзия. Сколько стоит отдых? - В этом выпуске Сашу Великолепного отправили рушить стереотипы в Малайзию. Там Саша: Неприлично много ест, но находит этому оправдание. Раскрывает секрет переулка любовниц в городе Ипо. Боится встречи с крокодилами. Становится жертвой страстного танца в секретном баре Куала-Лумпура. Знакомится с Брюсом Ли и исследует пещеру Темпурунг. И очень, очень много развлекается.  За знакомство со страной спасибо Любови (@lyuba_expat) и Марии (@travelmusha) от всей команды 🙂  За приколы в конце выпуска спасибо обстоятельствам.  #малайзия #куалалумпур #путешествия #сколькостоитотдых\n",
      "2: Baikal Mile 2019 - International Festival of speed\n"
     ]
    },
    {
     "name": "stderr",
     "output_type": "stream",
     "text": [
      "\n"
     ]
    }
   ],
   "source": [
    "import pandas as pd\n",
    "import torch\n",
    "from tqdm import tqdm\n",
    "\n",
    "# Assuming TextFeatureExtractor is already defined and imported\n",
    "\n",
    "# Load the CSV file\n",
    "df = pd.read_csv('/home/glooma/Code/Python/ML/Hakatons/train_dataset_tag_video/baseline/train_data_categories.csv')\n",
    "\n",
    "extractor = TextFeatureExtractor()\n",
    "\n",
    "# Dictionary to store embeddings\n",
    "embeddings = {}\n",
    "\n",
    "# Process each row\n",
    "for _, row in tqdm(df.iterrows(), total=len(df), desc=\"Processing videos\"):\n",
    "    video_id = row['video_id']\n",
    "    title = row['title']\n",
    "    description = row['description']\n",
    "    \n",
    "    # Combine title and description\n",
    "    text = f\"{title} {description}\"\n",
    "    \n",
    "    # Get embedding\n",
    "    embedding = extractor.extract_features(text)\n",
    "    \n",
    "    # Store embedding\n",
    "    embeddings[video_id] = embedding\n",
    "\n",
    "# Find most and least similar pairs\n",
    "max_similarity = -1\n",
    "min_similarity = 2  # Cosine similarity is always between -1 and 1\n",
    "most_similar_pair = None\n",
    "least_similar_pair = None\n",
    "\n",
    "for id1, emb1 in tqdm(embeddings.items(), desc=\"Comparing embeddings\"):\n",
    "    for id2, emb2 in embeddings.items():\n",
    "        if id1 != id2:\n",
    "            similarity = extractor.cosine_similarity(emb1, emb2).item()\n",
    "            \n",
    "            if similarity > max_similarity:\n",
    "                max_similarity = similarity\n",
    "                most_similar_pair = (id1, id2)\n",
    "            \n",
    "            if similarity < min_similarity:\n",
    "                min_similarity = similarity\n",
    "                least_similar_pair = (id1, id2)\n",
    "\n",
    "# Print results\n",
    "print(\"\\nMost similar pair:\")\n",
    "print(f\"Video IDs: {most_similar_pair}\")\n",
    "print(f\"Similarity: {max_similarity}\")\n",
    "print(\"Texts:\")\n",
    "print(f\"1: {df[df['video_id'] == most_similar_pair[0]]['title'].values[0]} - {df[df['video_id'] == most_similar_pair[0]]['description'].values[0]}\")\n",
    "print(f\"2: {df[df['video_id'] == most_similar_pair[1]]['title'].values[0]} - {df[df['video_id'] == most_similar_pair[1]]['description'].values[0]}\")\n",
    "\n",
    "print(\"\\nLeast similar pair:\")\n",
    "print(f\"Video IDs: {least_similar_pair}\")\n",
    "print(f\"Similarity: {min_similarity}\")\n",
    "print(\"Texts:\")\n",
    "print(f\"1: {df[df['video_id'] == least_similar_pair[0]]['title'].values[0]} - {df[df['video_id'] == least_similar_pair[0]]['description'].values[0]}\")\n",
    "print(f\"2: {df[df['video_id'] == least_similar_pair[1]]['title'].values[0]} - {df[df['video_id'] == least_similar_pair[1]]['description'].values[0]}\")"
   ]
  },
  {
   "cell_type": "markdown",
   "metadata": {},
   "source": [
    "Processing videos: 100%|██████████| 1049/1049 [07:41<00:00,  2.27it/s]\n",
    "Comparing embeddings: 100%|██████████| 1049/1049 [00:31<00:00, 33.50it/s]\n",
    "\n",
    "Most similar pair:\n",
    "\n",
    "Video IDs: ('0ea016128113476c741eba66ecbb5f0a', 'fe8ac2d7f57582ac5665692813d76efa')\n",
    "\n",
    "Similarity: 1.000000238418579\n",
    "\n",
    "Texts:\n",
    "\n",
    "1: Роман Юнусов и артист Black STAR SLAME чуть не утонули - В новом выпуске шоу «Спортивный Интерес» Рома Юнусов и популярный исполнитель SLAME под присмотром многократной призёрки чемпионатов мира будут учиться технике правильного вхождения в воду, чтобы плавать, как профи. Сухим в этот раз точно никто не уйдет, смотрите сами!\n",
    "\n",
    "2: Роман Юнусов и артист Black STAR SLAME чуть не утонули - В новом выпуске шоу «Спортивный Интерес» Рома Юнусов и популярный исполнитель SLAME под присмотром многократной призёрки чемпионатов мира будут учиться технике правильного вхождения в воду, чтобы плавать, как профи. Сухим в этот раз точно никто не уйдет, смотрите сами!\n",
    "\n",
    "Least similar pair:\n",
    "\n",
    "Video IDs: ('809cf37aa35541e9c82d710ae3881b4d', '24dbccf1b42bb1498de96586c17d4957')\n",
    "\n",
    "Similarity: 0.393150269985199\n",
    "\n",
    "Texts:\n",
    "\n",
    "1: Малайзия. Сколько стоит отдых? - В этом выпуске Сашу Великолепного отправили рушить стереотипы в Малайзию. Там Саша: Неприлично много ест, но находит этому оправдание. Раскрывает секрет переулка любовниц в городе Ипо. Боится встречи с крокодилами. Становится жертвой страстного танца в секретном баре Куала-Лумпура. Знакомится с Брюсом Ли и исследует пещеру Темпурунг. И очень, очень много развлекается.  За знакомство со страной спасибо Любови (@lyuba_expat) и Марии (@travelmusha) от всей команды 🙂  За приколы в конце выпуска спасибо обстоятельствам.  #малайзия #куалалумпур #путешествия #сколькостоитотдых\n",
    "\n",
    "2: Baikal Mile 2019 - International Festival of speed"
   ]
  }
 ],
 "metadata": {
  "kernelspec": {
   "display_name": ".venv",
   "language": "python",
   "name": "python3"
  },
  "language_info": {
   "codemirror_mode": {
    "name": "ipython",
    "version": 3
   },
   "file_extension": ".py",
   "mimetype": "text/x-python",
   "name": "python",
   "nbconvert_exporter": "python",
   "pygments_lexer": "ipython3",
   "version": "3.11.6"
  }
 },
 "nbformat": 4,
 "nbformat_minor": 2
}
