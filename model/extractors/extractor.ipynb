{
 "cells": [
  {
   "cell_type": "code",
   "execution_count": 10,
   "metadata": {},
   "outputs": [
    {
     "name": "stderr",
     "output_type": "stream",
     "text": [
      "LOG (VoskAPI:ReadDataFiles():model.cc:213) Decoding params beam=10 max-active=3000 lattice-beam=2\n",
      "LOG (VoskAPI:ReadDataFiles():model.cc:216) Silence phones 1:2:3:4:5:6:7:8:9:10\n",
      "LOG (VoskAPI:RemoveOrphanNodes():nnet-nnet.cc:948) Removed 0 orphan nodes.\n",
      "LOG (VoskAPI:RemoveOrphanComponents():nnet-nnet.cc:847) Removing 0 orphan components.\n",
      "LOG (VoskAPI:ReadDataFiles():model.cc:248) Loading i-vector extractor from /home/glooma/Code/Python/ML/Hakatons/hackathon_video_tagging/model/extractors/speech_to_text/vosk-model-small-ru-0.22/ivector/final.ie\n",
      "LOG (VoskAPI:ComputeDerivedVars():ivector-extractor.cc:183) Computing derived variables for iVector extractor\n",
      "LOG (VoskAPI:ComputeDerivedVars():ivector-extractor.cc:204) Done.\n",
      "LOG (VoskAPI:ReadDataFiles():model.cc:282) Loading HCL and G from /home/glooma/Code/Python/ML/Hakatons/hackathon_video_tagging/model/extractors/speech_to_text/vosk-model-small-ru-0.22/graph/HCLr.fst /home/glooma/Code/Python/ML/Hakatons/hackathon_video_tagging/model/extractors/speech_to_text/vosk-model-small-ru-0.22/graph/Gr.fst\n",
      "LOG (VoskAPI:ReadDataFiles():model.cc:308) Loading winfo /home/glooma/Code/Python/ML/Hakatons/hackathon_video_tagging/model/extractors/speech_to_text/vosk-model-small-ru-0.22/graph/phones/word_boundary.int\n",
      "Extracting audio features:  50%|█████     | 2/4 [00:02<00:01,  1.09it/s]"
     ]
    },
    {
     "name": "stdout",
     "output_type": "stream",
     "text": [
      "MoviePy - Writing audio in temp_audio.wav\n"
     ]
    },
    {
     "name": "stderr",
     "output_type": "stream",
     "text": [
      "Extracting audio features:  50%|█████     | 2/4 [00:02<00:01,  1.09it/s]"
     ]
    },
    {
     "name": "stdout",
     "output_type": "stream",
     "text": [
      "MoviePy - Done.\n"
     ]
    },
    {
     "name": "stderr",
     "output_type": "stream",
     "text": [
      "Combining embeddings: 100%|██████████| 4/4 [00:09<00:00,  2.31s/it]     \n"
     ]
    },
    {
     "name": "stdout",
     "output_type": "stream",
     "text": [
      "Embeddings saved to 1e0a5151efc26a3a8e038e132f6b80f4.mp4.pt\n"
     ]
    }
   ],
   "source": [
    "import pandas as pd\n",
    "import torch\n",
    "import os\n",
    "from tqdm import tqdm\n",
    "\n",
    "# Импортируем экстракторы\n",
    "from video_extractor.VideoFeatureExtractor import VideoFeatureExtractor\n",
    "from speech_to_text.SpeechToTextFeatureExtractor import SpeechToTextFeatureExtractor\n",
    "from text_extractor.TextFeatureExtractor import TextFeatureExtractor\n",
    "\n",
    "# Путь к CSV и директории с видео\n",
    "csv_file_path = '/home/glooma/Code/Python/ML/Hakatons/train_dataset_tag_video/baseline/train_data_categories.csv'\n",
    "videos_directory = '/home/glooma/Code/Python/ML/Hakatons/train_dataset_tag_video/videos/'\n",
    "\n",
    "def extract_and_save_embeddings(video_id):\n",
    "    # Читаем CSV файл\n",
    "    df = pd.read_csv(csv_file_path)\n",
    "    \n",
    "    # Получаем строку с данными по video_id\n",
    "    video_data = df[df['video_id'] == video_id]\n",
    "    if video_data.empty:\n",
    "        raise ValueError(f\"Video ID {video_id} not found in CSV.\")\n",
    "    \n",
    "    # Извлекаем нужные данные\n",
    "    video_file_name = video_data['video_id'].values[0] + '.mp4'    \n",
    "    title = video_data['title'].values[0]\n",
    "    description = video_data['description'].values[0]\n",
    "\n",
    "    # Полный путь к видео\n",
    "    video_file_path = os.path.join(videos_directory, video_file_name)\n",
    "\n",
    "    # Проверяем существование видеофайла\n",
    "    if not os.path.exists(video_file_path):\n",
    "        raise FileNotFoundError(f\"Video file {video_file_path} not found.\")\n",
    "\n",
    "    vosk_model_path = \"/home/glooma/Code/Python/ML/Hakatons/hackathon_video_tagging/model/extractors/speech_to_text/vosk-model-small-ru-0.22\"\n",
    "\n",
    "\n",
    "    # Инициализация экстракторов\n",
    "    video_extractor = VideoFeatureExtractor()\n",
    "    audio_extractor = SpeechToTextFeatureExtractor(vosk_model_path=vosk_model_path)\n",
    "    text_extractor = TextFeatureExtractor()\n",
    "\n",
    "    # Создаем tqdm объект для отображения прогресса\n",
    "    pbar = tqdm(total=4, desc=\"Extracting features\")\n",
    "\n",
    "    # Извлечение эмбеддингов\n",
    "    pbar.set_description(\"Extracting video features\")\n",
    "    video_embeddings = video_extractor.extract_features(video_file_path)\n",
    "    pbar.update(1)\n",
    "\n",
    "    pbar.set_description(\"Extracting text features\")\n",
    "    text_embeddings = text_extractor.extract_features(f\"{title} {description}\")\n",
    "    pbar.update(1)\n",
    "\n",
    "    pbar.set_description(\"Extracting audio features\")\n",
    "    audio_embeddings = audio_extractor.extract_features(video_file_path)\n",
    "    pbar.update(1)\n",
    "\n",
    "    # Объединение эмбеддингов\n",
    "    pbar.set_description(\"Combining embeddings\")\n",
    "    combined_embeddings = torch.cat((video_embeddings, text_embeddings, audio_embeddings), dim=1)\n",
    "    pbar.update(1)\n",
    "\n",
    "    # Сохранение в файл\n",
    "    output_file = f\"{video_file_name}.pt\"\n",
    "    torch.save(combined_embeddings, output_file)\n",
    "    pbar.close()\n",
    "    print(f\"Embeddings saved to {output_file}\")\n",
    "\n",
    "# Пример использования:\n",
    "input_video_id = '1e0a5151efc26a3a8e038e132f6b80f4'  # Замените на нужный video_id\n",
    "try:\n",
    "    extract_and_save_embeddings(input_video_id)\n",
    "except Exception as e:\n",
    "    print(f\"An error occurred: {str(e)}\")"
   ]
  }
 ],
 "metadata": {
  "kernelspec": {
   "display_name": ".venv",
   "language": "python",
   "name": "python3"
  },
  "language_info": {
   "codemirror_mode": {
    "name": "ipython",
    "version": 3
   },
   "file_extension": ".py",
   "mimetype": "text/x-python",
   "name": "python",
   "nbconvert_exporter": "python",
   "pygments_lexer": "ipython3",
   "version": "3.11.6"
  }
 },
 "nbformat": 4,
 "nbformat_minor": 2
}
